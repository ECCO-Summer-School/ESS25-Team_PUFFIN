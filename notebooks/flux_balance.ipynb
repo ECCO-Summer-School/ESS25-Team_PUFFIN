{
 "cells": [
  {
   "cell_type": "code",
   "execution_count": 1,
   "id": "eaf9d1cd-3f5c-4ba4-ada6-c725d95ec37c",
   "metadata": {},
   "outputs": [],
   "source": [
    "import netCDF4 as nc\n",
    "import numpy as np\n",
    "import xarray as xr\n",
    "import warnings\n",
    "from eofs.xarray import Eof\n",
    "import matplotlib.pyplot as plt\n",
    "import matplotlib.ticker as mticker\n",
    "from matplotlib import gridspec\n",
    "import datetime\n",
    "import seaborn as sns\n",
    "import cmocean as cmo\n",
    "import cartopy.crs as ccrs\n",
    "import cartopy.feature as cfeature\n",
    "from cartopy.mpl.ticker import LongitudeFormatter, LatitudeFormatter\n",
    "from scipy.stats import linregress\n",
    "import matplotlib.patches as mpatches\n",
    "import scipy.io as sio\n",
    "import matplotlib.colors as mcolors\n",
    "import matplotlib.patches as patch\n",
    "import sys\n",
    "import os\n",
    "sys.path.append(os.path.abspath('../scripts'))\n",
    "from proj_utils import *\n",
    "fig_path      = '../figures'"
   ]
  },
  {
   "cell_type": "markdown",
   "id": "7f32216b-a080-471b-af3e-5ece7c578cb9",
   "metadata": {},
   "source": [
    "# Pull Mass Flux Dataset"
   ]
  },
  {
   "cell_type": "code",
   "execution_count": 6,
   "id": "3d04ef0b-efbe-4513-a105-159cc23b20e8",
   "metadata": {},
   "outputs": [],
   "source": [
    "s3, credentials = init_S3FileSystem(use_earthdata=False, requester_pays=True)\n",
    "mzz_local_directory = Path('/efs_ecco/mzz-jsons-V4r5/MZZ_mon_mean_native')"
   ]
  },
  {
   "cell_type": "code",
   "execution_count": 13,
   "id": "203e6796-1728-4662-8d05-8682d202688d",
   "metadata": {},
   "outputs": [],
   "source": [
    "mzz_local_file= mzz_local_directory / 'OCEAN_VOLUME_FLUX_mon_mean_native_llc090_ECCOV4r5.json' # Pull monthly velocity \n",
    "fs = fsspec.filesystem(\"reference\",     \n",
    "                       fo=str(mzz_local_file),\n",
    "                       remote_protocol=\"s3\",\n",
    "                       remote_options={\"anon\":False, \"requester_pays\":True},\n",
    "                       skip_instance_cache=True)\n",
    "# \n",
    "fs.asynchronous = True\n",
    "store = zarr.storage.FsspecStore(fs)\n",
    "ds = xr.open_dataset(store, engine='zarr',\n",
    "                     consolidated=False, chunks={'time':4, 'Z':50})"
   ]
  },
  {
   "cell_type": "code",
   "execution_count": 14,
   "id": "94738b73-c9dd-46e4-9e62-49aff7240ac9",
   "metadata": {},
   "outputs": [],
   "source": [
    "bathy_path = user_home_dir + '/efs_ecco/ECCO/V4/r5/netcdf/native/geometry/GRID_GEOMETRY_ECCO_V4r5_native_llc0090.nc'\n",
    "ds_bathy   = xr.open_dataset(bathy_path).Depth\n",
    "ds_geom    = xr.open_dataset(bathy_path)"
   ]
  },
  {
   "cell_type": "code",
   "execution_count": 15,
   "id": "ce10f335-48f7-421d-b0b0-4bef42428f3e",
   "metadata": {},
   "outputs": [],
   "source": [
    "ds_north_vels = proc_dataset(ds, face = 'north', mask = True)\n",
    "ds_north_geom = proc_dataset(ds_geom, face = 'south', mask = True)"
   ]
  },
  {
   "cell_type": "code",
   "execution_count": null,
   "id": "9129a376-94a5-453f-ab6a-70403326d7c5",
   "metadata": {},
   "outputs": [],
   "source": [
    "ds_south_vels = "
   ]
  },
  {
   "cell_type": "code",
   "execution_count": null,
   "id": "8dea8176-f97f-42c7-804d-73f0ef4f725e",
   "metadata": {},
   "outputs": [],
   "source": [
    "def proc_dataset(ds, face = 'north', mask = True):\n",
    "    ds = get_na_tile(ds)\n",
    "    ds = subset_tgb_box(ds)\n",
    "    if face == 'north':\n",
    "        ds = ds.sel(i = slice(ds.i[0]), i_g = slice(ds.i_g[0])).squeeze()\n",
    "        if mask == 'True':\n",
    "            mask_da = xr.open_dataarray('../data/north_face_mask.nc')\n",
    "            ds = ds.where(mask_da)\n",
    "    return(ds)"
   ]
  }
 ],
 "metadata": {
  "kernelspec": {
   "display_name": "Python 3 (ipykernel)",
   "language": "python",
   "name": "python3"
  },
  "language_info": {
   "codemirror_mode": {
    "name": "ipython",
    "version": 3
   },
   "file_extension": ".py",
   "mimetype": "text/x-python",
   "name": "python",
   "nbconvert_exporter": "python",
   "pygments_lexer": "ipython3",
   "version": "3.12.8"
  }
 },
 "nbformat": 4,
 "nbformat_minor": 5
}
