{
 "cells": [
  {
   "cell_type": "markdown",
   "id": "e3a38be9-4747-425e-a7fc-73d2cf406e2e",
   "metadata": {},
   "source": [
    "# EMU Plotting and Analysis Tool Example: Adjoint Tool"
   ]
  },
  {
   "cell_type": "markdown",
   "id": "bde5655a-562b-4d93-b711-5d6a7113117c",
   "metadata": {},
   "source": [
    "## Load Modules"
   ]
  },
  {
   "cell_type": "code",
   "execution_count": 22,
   "id": "e543666c-0268-4589-9bdb-bfe30afb7747",
   "metadata": {},
   "outputs": [],
   "source": [
    "import netCDF4 as nc\n",
    "import numpy as np\n",
    "import xarray as xr\n",
    "import warnings\n",
    "from eofs.xarray import Eof\n",
    "import matplotlib.pyplot as plt\n",
    "import matplotlib.ticker as mticker\n",
    "from matplotlib import gridspec\n",
    "import datetime\n",
    "import seaborn as sns\n",
    "import cmocean as cmo\n",
    "import cartopy.crs as ccrs\n",
    "import cartopy.feature as cfeature\n",
    "from cartopy.mpl.ticker import LongitudeFormatter, LatitudeFormatter\n",
    "from scipy.stats import linregress\n",
    "import matplotlib.patches as mpatches\n",
    "import scipy.io as sio\n",
    "import matplotlib.colors as mcolors\n",
    "import matplotlib.patches as patch\n",
    "import sys\n",
    "import os\n",
    "sys.path.append(os.path.abspath('../scripts'))\n",
    "from proj_utils import *\n",
    "from mapping_utils import *\n",
    "fig_path      = '../figures'"
   ]
  },
  {
   "cell_type": "code",
   "execution_count": 23,
   "id": "27aef7d8-a995-45eb-82ce-19cba00bc12e",
   "metadata": {},
   "outputs": [],
   "source": [
    "## Load modules\n",
    "import runpy\n",
    "# The following are needed to load the plotting tool as a module\n",
    "import sys\n",
    "sys.path.append('/efs_ecco/ECCO/EMU/emu_userinterface_dir/')\n",
    "import emu_plot_arg_py as ept\n",
    "sys.path.append('/home/jovyan/ECCOv4-py')\n",
    "import ecco_v4_py as ecco"
   ]
  },
  {
   "cell_type": "code",
   "execution_count": 24,
   "id": "770c9bc3-d758-4f70-becb-ed48adafe913",
   "metadata": {},
   "outputs": [],
   "source": [
    "import glob\n",
    "\n",
    "path = '/efs_ecco/lenders/run_north_face/emu_fgrd_8_63_1162_41_-1.00E-01/output/state_2d_set1_day.*.data'\n",
    "data_list = sorted(glob.glob(path))"
   ]
  },
  {
   "cell_type": "code",
   "execution_count": 25,
   "id": "c4b951bf-99e5-4a68-8166-5e8bb26ef76a",
   "metadata": {},
   "outputs": [],
   "source": [
    "s3, credentials = init_S3FileSystem(use_earthdata=False, requester_pays=True)\n",
    "mzz_local_directory = Path('/efs_ecco/mzz-jsons-V4r5/MZZ_mon_mean_native')"
   ]
  },
  {
   "cell_type": "code",
   "execution_count": 26,
   "id": "4e4bb4d8-62f0-462c-9a35-4fdf06e23706",
   "metadata": {},
   "outputs": [],
   "source": [
    "mzz_local_file= mzz_local_directory / 'OCEAN_VELOCITY_mon_mean_native_llc090_ECCOV4r5.json' # Pull monthly velocity \n",
    "fs = fsspec.filesystem(\"reference\",     \n",
    "                       fo=str(mzz_local_file),\n",
    "                       remote_protocol=\"s3\",\n",
    "                       remote_options={\"anon\":False, \"requester_pays\":True},\n",
    "                       skip_instance_cache=True)\n",
    "# \n",
    "fs.asynchronous = True\n",
    "store = zarr.storage.FsspecStore(fs)\n",
    "ds = xr.open_dataset(store, engine='zarr',\n",
    "                     consolidated=False, chunks={'time':4, 'Z':50})"
   ]
  },
  {
   "cell_type": "code",
   "execution_count": 27,
   "id": "2e54757a-2f17-42af-8b75-9952c4f14c1f",
   "metadata": {},
   "outputs": [],
   "source": [
    "bathy_path = user_home_dir + '/efs_ecco/ECCO/V4/r5/netcdf/latlon/geometry/GRID_GEOMETRY_ECCO_V4r4_latlon_0p50deg.nc'\n",
    "ds_bathy   = xr.open_dataset(bathy_path).Depth"
   ]
  },
  {
   "cell_type": "code",
   "execution_count": 28,
   "id": "d2cc75be-4100-40a2-b8f5-7ab6d64692e0",
   "metadata": {},
   "outputs": [],
   "source": [
    "new_grid_delta_lat = 1\n",
    "new_grid_delta_lon = 1\n",
    "\n",
    "new_grid_min_lat = -90\n",
    "new_grid_max_lat = 90\n",
    "\n",
    "new_grid_min_lon = -180\n",
    "new_grid_max_lon = 180"
   ]
  },
  {
   "cell_type": "code",
   "execution_count": 29,
   "id": "422094fc-c169-4415-988e-6274b9fdc794",
   "metadata": {},
   "outputs": [],
   "source": [
    "nx = 90\n",
    "ny = 1170"
   ]
  },
  {
   "cell_type": "code",
   "execution_count": 32,
   "id": "96ecaaf1-8c6d-4db2-a5a2-e562d784451a",
   "metadata": {},
   "outputs": [
    {
     "data": {
      "text/plain": [
       "array([  0,  10,  20,  30,  40,  50,  60,  70,  80,  90, 100, 110, 120,\n",
       "       130, 140, 150, 160, 170, 180, 190, 200])"
      ]
     },
     "execution_count": 32,
     "metadata": {},
     "output_type": "execute_result"
    }
   ],
   "source": []
  },
  {
   "cell_type": "code",
   "execution_count": null,
   "id": "5b5bac37-797d-4a84-ac83-b0f55bea98f0",
   "metadata": {},
   "outputs": [],
   "source": []
  },
  {
   "cell_type": "code",
   "execution_count": 33,
   "id": "6db8283c-4e41-4d24-9f03-e40314ebe21b",
   "metadata": {},
   "outputs": [
    {
     "name": "stdout",
     "output_type": "stream",
     "text": [
      "llc_compact_to_faces: dims, llc  (2, 1170, 90) 90\n",
      "llc_compact_to_faces: data_compact array type  >f4\n",
      "llc_faces_to_tiles: data_tiles shape  (2, 13, 90, 90)\n",
      "llc_faces_to_tiles: data_tiles dtype  >f4\n",
      "llc_compact_to_faces: dims, llc  (2, 1170, 90) 90\n",
      "llc_compact_to_faces: data_compact array type  >f4\n",
      "llc_faces_to_tiles: data_tiles shape  (2, 13, 90, 90)\n",
      "llc_faces_to_tiles: data_tiles dtype  >f4\n",
      "llc_compact_to_faces: dims, llc  (2, 1170, 90) 90\n",
      "llc_compact_to_faces: data_compact array type  >f4\n",
      "llc_faces_to_tiles: data_tiles shape  (2, 13, 90, 90)\n",
      "llc_faces_to_tiles: data_tiles dtype  >f4\n",
      "llc_compact_to_faces: dims, llc  (2, 1170, 90) 90\n",
      "llc_compact_to_faces: data_compact array type  >f4\n",
      "llc_faces_to_tiles: data_tiles shape  (2, 13, 90, 90)\n",
      "llc_faces_to_tiles: data_tiles dtype  >f4\n",
      "llc_compact_to_faces: dims, llc  (2, 1170, 90) 90\n",
      "llc_compact_to_faces: data_compact array type  >f4\n",
      "llc_faces_to_tiles: data_tiles shape  (2, 13, 90, 90)\n",
      "llc_faces_to_tiles: data_tiles dtype  >f4\n",
      "llc_compact_to_faces: dims, llc  (2, 1170, 90) 90\n",
      "llc_compact_to_faces: data_compact array type  >f4\n",
      "llc_faces_to_tiles: data_tiles shape  (2, 13, 90, 90)\n",
      "llc_faces_to_tiles: data_tiles dtype  >f4\n",
      "llc_compact_to_faces: dims, llc  (2, 1170, 90) 90\n",
      "llc_compact_to_faces: data_compact array type  >f4\n",
      "llc_faces_to_tiles: data_tiles shape  (2, 13, 90, 90)\n",
      "llc_faces_to_tiles: data_tiles dtype  >f4\n",
      "llc_compact_to_faces: dims, llc  (2, 1170, 90) 90\n",
      "llc_compact_to_faces: data_compact array type  >f4\n",
      "llc_faces_to_tiles: data_tiles shape  (2, 13, 90, 90)\n",
      "llc_faces_to_tiles: data_tiles dtype  >f4\n",
      "llc_compact_to_faces: dims, llc  (2, 1170, 90) 90\n",
      "llc_compact_to_faces: data_compact array type  >f4\n",
      "llc_faces_to_tiles: data_tiles shape  (2, 13, 90, 90)\n",
      "llc_faces_to_tiles: data_tiles dtype  >f4\n",
      "llc_compact_to_faces: dims, llc  (2, 1170, 90) 90\n",
      "llc_compact_to_faces: data_compact array type  >f4\n",
      "llc_faces_to_tiles: data_tiles shape  (2, 13, 90, 90)\n",
      "llc_faces_to_tiles: data_tiles dtype  >f4\n",
      "llc_compact_to_faces: dims, llc  (2, 1170, 90) 90\n",
      "llc_compact_to_faces: data_compact array type  >f4\n",
      "llc_faces_to_tiles: data_tiles shape  (2, 13, 90, 90)\n",
      "llc_faces_to_tiles: data_tiles dtype  >f4\n",
      "llc_compact_to_faces: dims, llc  (2, 1170, 90) 90\n",
      "llc_compact_to_faces: data_compact array type  >f4\n",
      "llc_faces_to_tiles: data_tiles shape  (2, 13, 90, 90)\n",
      "llc_faces_to_tiles: data_tiles dtype  >f4\n",
      "llc_compact_to_faces: dims, llc  (2, 1170, 90) 90\n",
      "llc_compact_to_faces: data_compact array type  >f4\n",
      "llc_faces_to_tiles: data_tiles shape  (2, 13, 90, 90)\n",
      "llc_faces_to_tiles: data_tiles dtype  >f4\n",
      "llc_compact_to_faces: dims, llc  (2, 1170, 90) 90\n",
      "llc_compact_to_faces: data_compact array type  >f4\n",
      "llc_faces_to_tiles: data_tiles shape  (2, 13, 90, 90)\n",
      "llc_faces_to_tiles: data_tiles dtype  >f4\n",
      "llc_compact_to_faces: dims, llc  (2, 1170, 90) 90\n",
      "llc_compact_to_faces: data_compact array type  >f4\n",
      "llc_faces_to_tiles: data_tiles shape  (2, 13, 90, 90)\n",
      "llc_faces_to_tiles: data_tiles dtype  >f4\n",
      "llc_compact_to_faces: dims, llc  (2, 1170, 90) 90\n",
      "llc_compact_to_faces: data_compact array type  >f4\n",
      "llc_faces_to_tiles: data_tiles shape  (2, 13, 90, 90)\n",
      "llc_faces_to_tiles: data_tiles dtype  >f4\n",
      "llc_compact_to_faces: dims, llc  (2, 1170, 90) 90\n",
      "llc_compact_to_faces: data_compact array type  >f4\n",
      "llc_faces_to_tiles: data_tiles shape  (2, 13, 90, 90)\n",
      "llc_faces_to_tiles: data_tiles dtype  >f4\n",
      "llc_compact_to_faces: dims, llc  (2, 1170, 90) 90\n",
      "llc_compact_to_faces: data_compact array type  >f4\n",
      "llc_faces_to_tiles: data_tiles shape  (2, 13, 90, 90)\n",
      "llc_faces_to_tiles: data_tiles dtype  >f4\n",
      "llc_compact_to_faces: dims, llc  (2, 1170, 90) 90\n",
      "llc_compact_to_faces: data_compact array type  >f4\n",
      "llc_faces_to_tiles: data_tiles shape  (2, 13, 90, 90)\n",
      "llc_faces_to_tiles: data_tiles dtype  >f4\n",
      "llc_compact_to_faces: dims, llc  (2, 1170, 90) 90\n",
      "llc_compact_to_faces: data_compact array type  >f4\n",
      "llc_faces_to_tiles: data_tiles shape  (2, 13, 90, 90)\n",
      "llc_faces_to_tiles: data_tiles dtype  >f4\n",
      "llc_compact_to_faces: dims, llc  (2, 1170, 90) 90\n",
      "llc_compact_to_faces: data_compact array type  >f4\n",
      "llc_faces_to_tiles: data_tiles shape  (2, 13, 90, 90)\n",
      "llc_faces_to_tiles: data_tiles dtype  >f4\n"
     ]
    }
   ],
   "source": [
    "for t in (np.arange(0,len(data_list),10)):\n",
    "    f = data_list[t]\n",
    "    temp = np.fromfile(f,'>f4')\n",
    "    temp = temp.reshape(-1,ny,nx)\n",
    "    temp_tiles = ecco.llc_compact_to_tiles(temp)\n",
    "    # Interpolate Tiles to LatLong\n",
    "    new_grid_lon_centers, new_grid_lat_centers,\\\n",
    "    new_grid_lon_edges, new_grid_lat_edges,\\\n",
    "    field_nearest_1deg =\\\n",
    "            ecco.resample_to_latlon(ds.XC, \\\n",
    "                                    ds.YC, \\\n",
    "                                    temp_tiles[0,:,:],\\\n",
    "                                    new_grid_min_lat, new_grid_max_lat, new_grid_delta_lat,\\\n",
    "                                    new_grid_min_lon, new_grid_max_lon, new_grid_delta_lon,\\\n",
    "                                    fill_value = np.nan, \\\n",
    "                                    mapping_method = 'nearest_neighbor',\n",
    "                                    radius_of_influence = 120000)\n",
    "\n",
    "    # Plot Sensitivity\n",
    "    sv_name = '/perturb_1/pert_tstep_' + str(t).zfill(2)\n",
    "    max_val = 2000\n",
    "    plt_var = field_nearest_1deg\n",
    "    plt_var[plt_var>max_val] = max_val\n",
    "    plt_var[plt_var<-max_val] = -max_val\n",
    "    bbox          = [-80,0,20,80] # Plotting Extent\n",
    "    plot_this_box = [-80,0,0,60]    # Locator box indicating a region\n",
    "    proj          = ccrs.PlateCarree() # Need to add this to most things as \"transform=proj\"\n",
    "    fig,ax,_      = init_orthomap(1,1,bbox)\n",
    "    \n",
    "    ax     = add_coast_grid(ax,bbox,fill_color='k',line_color='k')\n",
    "    levels = np.linspace(-3000,3000,61)\n",
    "    \n",
    "    colorplot = plt.contourf(new_grid_lon_centers,new_grid_lat_centers,field_nearest_1deg, levels=50, cmap='cmo.balance', zorder=0,transform = proj)\n",
    "    cbar = plt.colorbar(colorplot, fraction=0.057, pad=0.01, orientation='horizontal')\n",
    "    #plt.title('Lag = ' + str(t) + ' wks', fontsize = 16)\n",
    "    plt.contour(ds_bathy.longitude,ds_bathy.latitude,ds_bathy,levels = [1000],colors='k',transform = proj)\n",
    "    plt.savefig(fig_path  + sv_name + '.png', format='png', bbox_inches=\"tight\",dpi=100)\n",
    "    plt.close()"
   ]
  },
  {
   "cell_type": "code",
   "execution_count": null,
   "id": "ef4cb770-9815-4776-8699-535ef8caa6fe",
   "metadata": {},
   "outputs": [],
   "source": [
    "### --- Open Bathy ---\n",
    "bathy_path = user_home_dir + '/efs_ecco/ECCO/V4/r5/netcdf/latlon/geometry/GRID_GEOMETRY_ECCO_V4r4_latlon_0p50deg.nc'\n",
    "ds_bathy   = xr.open_dataset(bathy_path).Depth"
   ]
  },
  {
   "cell_type": "code",
   "execution_count": null,
   "id": "e11734a0-21e4-4e71-b5fe-c27a4eff88eb",
   "metadata": {},
   "outputs": [],
   "source": [
    "#save_name    = 'surface_temperature_test'\n",
    "from mapping_utils import *\n",
    "max_val = 3000\n",
    "plt_var = field_nearest_1deg\n",
    "plt_var[plt_var>max_val] = max_val\n",
    "plt_var[plt_var<-max_val] = -max_val\n",
    "bbox          = [-80,0,20,80] # Plotting Extent\n",
    "plot_this_box = [-80,0,0,60]    # Locator box indicating a region\n",
    "proj          = ccrs.PlateCarree() # Need to add this to most things as \"transform=proj\"\n",
    "fig,ax,_      = init_orthomap(1,1,bbox)\n",
    "\n",
    "# Add Coasts/Continent\n",
    "ax     = add_coast_grid(ax,bbox,fill_color='k',line_color='k')\n",
    "levels = np.linspace(-3000,3000,61)\n",
    "\n",
    "# Plot contours\n",
    "colorplot = plt.contourf(new_grid_lon_centers,new_grid_lat_centers,field_nearest_1deg, levels=50, cmap='cmo.balance', zorder=0,transform = proj)\n",
    "cbar = plt.colorbar(colorplot, fraction=0.057, pad=0.01, orientation='horizontal')\n",
    "#cbar.set_label('SST [$˚C$]', size='16', labelpad=11)\n",
    "plt.title('Lag = 52 wks', fontsize = 16)\n",
    "plt.contour(ds_bathy.longitude,ds_bathy.latitude,ds_bathy,levels = [1000],colors='k',transform = proj)\n",
    "#plt.contour(ds_bathy.longitude,ds_bathy.latitude,ds_bathy,levels = [1000],colors='k',transform = proj)\n",
    "#plt.scatter(vels_N.longitude,np.repeat(vels_N.latitude,len(vels_N.longitude)),transform = proj)\n",
    "#cbar.ax.tick_params(labelsize=16)\n",
    "#ax.add_patch(patch.Rectangle((-56,40),11,8,facecolor='None',edgecolor='k',linewidth=2,transform=proj))\n",
    "#plt.savefig(fig_path  + save_name + '.png', format='png', bbox_inches=\"tight\",dpi=100)"
   ]
  },
  {
   "cell_type": "code",
   "execution_count": null,
   "id": "be1188c3-b18c-4a48-b5a6-c981a1826b9f",
   "metadata": {},
   "outputs": [],
   "source": [
    "a_north_atlantic = a_tiles[:,10,:,:]"
   ]
  },
  {
   "cell_type": "code",
   "execution_count": null,
   "id": "c24528dc-d9f8-4751-a513-0ce59311abb9",
   "metadata": {},
   "outputs": [],
   "source": [
    "plt.contourf(a_north_atlantic[])"
   ]
  },
  {
   "cell_type": "code",
   "execution_count": null,
   "id": "2a33122a-91c2-49bc-b3d1-22249b13a06c",
   "metadata": {},
   "outputs": [],
   "source": [
    "a_tiles = ecco.llc_compact_to_tiles(a)\n",
    "ecco.plot_tiles(a_tiles[-24],rotate_to_latlon=True,layout='latlon',show_tile_labels=False,show_colorbar=True)"
   ]
  },
  {
   "cell_type": "code",
   "execution_count": null,
   "id": "51c91f1a-5177-424e-9df0-790436938bad",
   "metadata": {},
   "outputs": [],
   "source": [
    "import matplotlib.pyplot as plt\n",
    "plt.plot(a)"
   ]
  },
  {
   "cell_type": "markdown",
   "id": "3d2e9892-f68e-4555-a72f-d3de9d2dbc70",
   "metadata": {},
   "source": [
    "## Invoking the Tool\n",
    "Invoking the tool is the same across all EMU tools. The tool determines what to plot based on the user-specified EMU run directory name. For example, 'emu_samp...' corresponds to the Sampling Tool, while 'emu_fgrd...' corresponds to the Forward Gradient Tool.\n",
    "\n",
    "There are two method to use the tool:\n",
    "- **Method 1: Menu-driven Input**\n",
    "  \n",
    "`runpy.run_path('/efs_ecco/ECCO/EMU/emu_userinterface_dir/python/emu_plot.py');`\n",
    "\n",
    "or `globals_dict = ept.emu_plot()` by using the ept module.\n",
    "\n",
    "This method is menu-driven and does not specify any arguments. This method is most suitable for users who are new to the EMU tool. The menu-driven method guides users through entering parameters and creating plots. \n",
    "\n",
    "- **Method 2: Argument-based Input**\n",
    "\n",
    "`globals_dict = ept.emu_plot(run_name=\"/PATH/emu_fgrd_7_15_743_5_-1.00E-01\")`\n",
    "\n",
    "This method uses the ept moudle and skips the step of creating plots in Method 1. Instead, it focuses on returning data for users to perform more advanced processing later. The arguments provide more flexible ways for users to extract data.\n",
    "\n",
    "For further details, including the available arguments, you can use \n",
    "\n",
    "`help(ept.emu_plot)`."
   ]
  },
  {
   "cell_type": "markdown",
   "id": "5723a99c-c618-4e25-8b74-5d986685b42c",
   "metadata": {},
   "source": [
    "### Method 1: Menu-driven Input"
   ]
  },
  {
   "cell_type": "code",
   "execution_count": null,
   "id": "aa9adda8-cf5f-4741-940f-717073db73f0",
   "metadata": {},
   "outputs": [],
   "source": [
    "runpy.run_path('/efs_ecco/ECCO/EMU/emu_userinterface_dir/python/emu_plot.py');\n",
    "# The following that uses a module go through the same menu-driven process s using runpy above, but \n",
    "# globals_dict is a dictionary, containing 'return_vars' and 'emu'.\n",
    "# return_vars' contains the data used to make the plot.\n",
    "# emu contains more variables that were used in ept.\n",
    "# globals_dict = ept.emu_plot()\n",
    "\n",
    "# When prompted, enter the directory of EMU run to examine, e.g., /efs_ecco/owang/ECCO/EMU/tryout/emu_adj_6_6_2_45_585_1_20250516_052733/, and hit return."
   ]
  },
  {
   "cell_type": "markdown",
   "id": "2dc7ca28-daf2-4b59-a46e-a129fbf238ca",
   "metadata": {},
   "source": [
    "### Method 2: Argument-based Input"
   ]
  },
  {
   "cell_type": "markdown",
   "id": "4497b852-f6ec-42e1-a401-dbb3c930a75e",
   "metadata": {},
   "source": [
    "***To get help information, including the available arguments, uncomment `help(ept.emu_plot)`.***"
   ]
  },
  {
   "cell_type": "code",
   "execution_count": null,
   "id": "cd317c61-36f3-4f03-995c-dcf8b15410d0",
   "metadata": {},
   "outputs": [],
   "source": [
    "# help(ept.emu_plot)"
   ]
  },
  {
   "cell_type": "code",
   "execution_count": null,
   "id": "28edc063-d7b2-40a3-84cf-2d3f0a403a87",
   "metadata": {},
   "outputs": [],
   "source": [
    "# globals_dict is a dictionary, containing 'return_vars' and 'emu'.\n",
    "# return_vars' contains the data used to make the plot.\n",
    "# emu contains more variables that were used in ept.\n",
    "\n",
    "# Adjoint Tool\n",
    "globals_dict = ept.emu_plot(run_name=\"/efs_ecco/owang/ECCO/EMU/tryout/emu_adj_6_6_2_45_585_1\",\n",
    "                            ctrl_num_list=[1, 2, 3, 4, 5, 6, 7, 8],\n",
    "                            lag_beg=0, lag_end=1000000);"
   ]
  },
  {
   "cell_type": "markdown",
   "id": "b15be927-ee10-4785-9cbb-9c5dae23cd96",
   "metadata": {},
   "source": [
    "#### Example of Extracting Return Variables and Generating Plots"
   ]
  },
  {
   "cell_type": "markdown",
   "id": "f6c32b55-e4c5-4824-b9f9-f6e8b9173f47",
   "metadata": {},
   "source": [
    "***Extract return variables***"
   ]
  },
  {
   "cell_type": "code",
   "execution_count": null,
   "id": "f50b6f60-a327-4424-b716-42f8bd447e57",
   "metadata": {},
   "outputs": [],
   "source": [
    "# Return variables used to make the plot\n",
    "return_vars_dict = globals_dict.get('return_vars')\n",
    "#  More variables used by ept\n",
    "# emu = globals_dict.get('return_vars')"
   ]
  },
  {
   "cell_type": "code",
   "execution_count": null,
   "id": "4b7a6a86-531f-46f8-8bfc-6dc06990a3dd",
   "metadata": {},
   "outputs": [],
   "source": [
    "# Check the keys in the dictionary\n",
    "return_vars_dict.keys()"
   ]
  },
  {
   "cell_type": "code",
   "execution_count": null,
   "id": "ad6e3df0-1ffc-48fd-a909-f19fa4f337b3",
   "metadata": {},
   "outputs": [],
   "source": [
    "# Extract Return Variables and Reproudce plot by Method 1\n",
    "import numpy as np\n",
    "import matplotlib.pyplot as plt\n",
    "import lib_python\n",
    "import plot_adj\n",
    "\n",
    "adj2d_all = return_vars_dict['adxx_tauu']\n",
    "fname = return_vars_dict['adxx_tauu_filename']\n",
    "pinfo = 'lag, rec = 3, 24 adxx_tauu.0000000129.data'\n",
    "lag0 = return_vars_dict['adxx_tauu_lag0']\n",
    "lagmax = return_vars_dict['adxx_tauu_lagmax']\n",
    "nlag = lag0-lagmax+1\n",
    "ww = np.arange(nlag)\n",
    "\n",
    "ftitle = f'(i,j,lon,lat)= {42:2},{255:4}  {3.3:7.1f} {64.9:6.1f} {fname}'"
   ]
  },
  {
   "cell_type": "markdown",
   "id": "902e6a38-2ff3-44e1-98bc-2a0ac893d336",
   "metadata": {},
   "source": [
    "***Reproduce plots geneated by Method 1***"
   ]
  },
  {
   "cell_type": "code",
   "execution_count": null,
   "id": "fc7a3847-e177-43ab-b607-323f3a427d81",
   "metadata": {},
   "outputs": [],
   "source": [
    "lib_python.plt_state2d(adj2d_all[3], pinfo)"
   ]
  },
  {
   "cell_type": "code",
   "execution_count": null,
   "id": "9e097a0e-8645-4c54-9878-3cc71c7248de",
   "metadata": {},
   "outputs": [],
   "source": [
    "plot_adj.plot_adj_vs_lag(ww, adj2d_all[:,255-1,42-1], ftitle)"
   ]
  }
 ],
 "metadata": {
  "kernelspec": {
   "display_name": "Python 3 (ipykernel)",
   "language": "python",
   "name": "python3"
  },
  "language_info": {
   "codemirror_mode": {
    "name": "ipython",
    "version": 3
   },
   "file_extension": ".py",
   "mimetype": "text/x-python",
   "name": "python",
   "nbconvert_exporter": "python",
   "pygments_lexer": "ipython3",
   "version": "3.12.8"
  }
 },
 "nbformat": 4,
 "nbformat_minor": 5
}
